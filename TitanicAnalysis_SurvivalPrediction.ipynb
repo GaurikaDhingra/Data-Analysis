{
  "nbformat": 4,
  "nbformat_minor": 0,
  "metadata": {
    "colab": {
      "provenance": []
    },
    "kernelspec": {
      "name": "python3",
      "display_name": "Python 3"
    },
    "language_info": {
      "name": "python"
    }
  },
  "cells": [
    {
      "cell_type": "code",
      "execution_count": null,
      "metadata": {
        "id": "FYyZVrt7U0fz"
      },
      "outputs": [],
      "source": [
        "#import necessary libraries\n",
        "import pandas as pd\n",
        "import seaborn as sns\n",
        "import numpy as np\n",
        "import matplotlib.pyplot as plt\n",
        "import sklearn as sk"
      ]
    },
    {
      "cell_type": "code",
      "source": [
        "pd.set_option(\"display.max_columns\",None)"
      ],
      "metadata": {
        "id": "yF7t_eRBWJyi"
      },
      "execution_count": null,
      "outputs": []
    },
    {
      "cell_type": "code",
      "source": [
        "#Load dataset\n",
        "df = pd.read_csv(\"/content/Titanic.csv\")"
      ],
      "metadata": {
        "id": "6DdkqaKCVxd5"
      },
      "execution_count": null,
      "outputs": []
    },
    {
      "cell_type": "code",
      "source": [
        "print(df.head())"
      ],
      "metadata": {
        "colab": {
          "base_uri": "https://localhost:8080/"
        },
        "id": "aEGSVu4iV_LM",
        "outputId": "356bd4fb-1124-4657-fa92-25c0750d225b"
      },
      "execution_count": null,
      "outputs": [
        {
          "output_type": "stream",
          "name": "stdout",
          "text": [
            "                                            Name PClass    Age     Sex  \\\n",
            "0                   Allen, Miss Elisabeth Walton    1st  29.00  female   \n",
            "1                    Allison, Miss Helen Loraine    1st   2.00  female   \n",
            "2            Allison, Mr Hudson Joshua Creighton    1st  30.00    male   \n",
            "3  Allison, Mrs Hudson JC (Bessie Waldo Daniels)    1st  25.00  female   \n",
            "4                  Allison, Master Hudson Trevor    1st   0.92    male   \n",
            "\n",
            "   Survived  \n",
            "0         1  \n",
            "1         0  \n",
            "2         0  \n",
            "3         0  \n",
            "4         1  \n"
          ]
        }
      ]
    },
    {
      "cell_type": "code",
      "source": [
        "#handling missing values\n",
        "df.isnull().sum()"
      ],
      "metadata": {
        "colab": {
          "base_uri": "https://localhost:8080/"
        },
        "id": "TalGyHPMWq8f",
        "outputId": "c67bb41e-86bc-4569-da85-c413f0214bfd"
      },
      "execution_count": null,
      "outputs": [
        {
          "output_type": "execute_result",
          "data": {
            "text/plain": [
              "Name          0\n",
              "PClass        1\n",
              "Age         557\n",
              "Sex           0\n",
              "Survived      0\n",
              "dtype: int64"
            ]
          },
          "metadata": {},
          "execution_count": 6
        }
      ]
    },
    {
      "cell_type": "markdown",
      "source": [
        "We can understand that we have maximum null values in the age column, i.e, 557 values are null. 1 null value can also be seen in the PClasss column."
      ],
      "metadata": {
        "id": "GQMDROeUW78B"
      }
    },
    {
      "cell_type": "code",
      "source": [
        "df.describe()"
      ],
      "metadata": {
        "colab": {
          "base_uri": "https://localhost:8080/",
          "height": 300
        },
        "id": "NMNPNnnTW4AG",
        "outputId": "205b60c6-4c83-47b6-e1fe-417b2a4780e4"
      },
      "execution_count": null,
      "outputs": [
        {
          "output_type": "execute_result",
          "data": {
            "text/plain": [
              "              Age     Survived\n",
              "count  756.000000  1313.000000\n",
              "mean    30.397989     0.342727\n",
              "std     14.259049     0.474802\n",
              "min      0.170000     0.000000\n",
              "25%     21.000000     0.000000\n",
              "50%     28.000000     0.000000\n",
              "75%     39.000000     1.000000\n",
              "max     71.000000     1.000000"
            ],
            "text/html": [
              "\n",
              "  <div id=\"df-686159f0-5c59-45b5-b09b-b6a267a24e5f\" class=\"colab-df-container\">\n",
              "    <div>\n",
              "<style scoped>\n",
              "    .dataframe tbody tr th:only-of-type {\n",
              "        vertical-align: middle;\n",
              "    }\n",
              "\n",
              "    .dataframe tbody tr th {\n",
              "        vertical-align: top;\n",
              "    }\n",
              "\n",
              "    .dataframe thead th {\n",
              "        text-align: right;\n",
              "    }\n",
              "</style>\n",
              "<table border=\"1\" class=\"dataframe\">\n",
              "  <thead>\n",
              "    <tr style=\"text-align: right;\">\n",
              "      <th></th>\n",
              "      <th>Age</th>\n",
              "      <th>Survived</th>\n",
              "    </tr>\n",
              "  </thead>\n",
              "  <tbody>\n",
              "    <tr>\n",
              "      <th>count</th>\n",
              "      <td>756.000000</td>\n",
              "      <td>1313.000000</td>\n",
              "    </tr>\n",
              "    <tr>\n",
              "      <th>mean</th>\n",
              "      <td>30.397989</td>\n",
              "      <td>0.342727</td>\n",
              "    </tr>\n",
              "    <tr>\n",
              "      <th>std</th>\n",
              "      <td>14.259049</td>\n",
              "      <td>0.474802</td>\n",
              "    </tr>\n",
              "    <tr>\n",
              "      <th>min</th>\n",
              "      <td>0.170000</td>\n",
              "      <td>0.000000</td>\n",
              "    </tr>\n",
              "    <tr>\n",
              "      <th>25%</th>\n",
              "      <td>21.000000</td>\n",
              "      <td>0.000000</td>\n",
              "    </tr>\n",
              "    <tr>\n",
              "      <th>50%</th>\n",
              "      <td>28.000000</td>\n",
              "      <td>0.000000</td>\n",
              "    </tr>\n",
              "    <tr>\n",
              "      <th>75%</th>\n",
              "      <td>39.000000</td>\n",
              "      <td>1.000000</td>\n",
              "    </tr>\n",
              "    <tr>\n",
              "      <th>max</th>\n",
              "      <td>71.000000</td>\n",
              "      <td>1.000000</td>\n",
              "    </tr>\n",
              "  </tbody>\n",
              "</table>\n",
              "</div>\n",
              "    <div class=\"colab-df-buttons\">\n",
              "\n",
              "  <div class=\"colab-df-container\">\n",
              "    <button class=\"colab-df-convert\" onclick=\"convertToInteractive('df-686159f0-5c59-45b5-b09b-b6a267a24e5f')\"\n",
              "            title=\"Convert this dataframe to an interactive table.\"\n",
              "            style=\"display:none;\">\n",
              "\n",
              "  <svg xmlns=\"http://www.w3.org/2000/svg\" height=\"24px\" viewBox=\"0 -960 960 960\">\n",
              "    <path d=\"M120-120v-720h720v720H120Zm60-500h600v-160H180v160Zm220 220h160v-160H400v160Zm0 220h160v-160H400v160ZM180-400h160v-160H180v160Zm440 0h160v-160H620v160ZM180-180h160v-160H180v160Zm440 0h160v-160H620v160Z\"/>\n",
              "  </svg>\n",
              "    </button>\n",
              "\n",
              "  <style>\n",
              "    .colab-df-container {\n",
              "      display:flex;\n",
              "      gap: 12px;\n",
              "    }\n",
              "\n",
              "    .colab-df-convert {\n",
              "      background-color: #E8F0FE;\n",
              "      border: none;\n",
              "      border-radius: 50%;\n",
              "      cursor: pointer;\n",
              "      display: none;\n",
              "      fill: #1967D2;\n",
              "      height: 32px;\n",
              "      padding: 0 0 0 0;\n",
              "      width: 32px;\n",
              "    }\n",
              "\n",
              "    .colab-df-convert:hover {\n",
              "      background-color: #E2EBFA;\n",
              "      box-shadow: 0px 1px 2px rgba(60, 64, 67, 0.3), 0px 1px 3px 1px rgba(60, 64, 67, 0.15);\n",
              "      fill: #174EA6;\n",
              "    }\n",
              "\n",
              "    .colab-df-buttons div {\n",
              "      margin-bottom: 4px;\n",
              "    }\n",
              "\n",
              "    [theme=dark] .colab-df-convert {\n",
              "      background-color: #3B4455;\n",
              "      fill: #D2E3FC;\n",
              "    }\n",
              "\n",
              "    [theme=dark] .colab-df-convert:hover {\n",
              "      background-color: #434B5C;\n",
              "      box-shadow: 0px 1px 3px 1px rgba(0, 0, 0, 0.15);\n",
              "      filter: drop-shadow(0px 1px 2px rgba(0, 0, 0, 0.3));\n",
              "      fill: #FFFFFF;\n",
              "    }\n",
              "  </style>\n",
              "\n",
              "    <script>\n",
              "      const buttonEl =\n",
              "        document.querySelector('#df-686159f0-5c59-45b5-b09b-b6a267a24e5f button.colab-df-convert');\n",
              "      buttonEl.style.display =\n",
              "        google.colab.kernel.accessAllowed ? 'block' : 'none';\n",
              "\n",
              "      async function convertToInteractive(key) {\n",
              "        const element = document.querySelector('#df-686159f0-5c59-45b5-b09b-b6a267a24e5f');\n",
              "        const dataTable =\n",
              "          await google.colab.kernel.invokeFunction('convertToInteractive',\n",
              "                                                    [key], {});\n",
              "        if (!dataTable) return;\n",
              "\n",
              "        const docLinkHtml = 'Like what you see? Visit the ' +\n",
              "          '<a target=\"_blank\" href=https://colab.research.google.com/notebooks/data_table.ipynb>data table notebook</a>'\n",
              "          + ' to learn more about interactive tables.';\n",
              "        element.innerHTML = '';\n",
              "        dataTable['output_type'] = 'display_data';\n",
              "        await google.colab.output.renderOutput(dataTable, element);\n",
              "        const docLink = document.createElement('div');\n",
              "        docLink.innerHTML = docLinkHtml;\n",
              "        element.appendChild(docLink);\n",
              "      }\n",
              "    </script>\n",
              "  </div>\n",
              "\n",
              "\n",
              "<div id=\"df-c68b15d2-e69b-421d-9c03-b7b256b642c3\">\n",
              "  <button class=\"colab-df-quickchart\" onclick=\"quickchart('df-c68b15d2-e69b-421d-9c03-b7b256b642c3')\"\n",
              "            title=\"Suggest charts\"\n",
              "            style=\"display:none;\">\n",
              "\n",
              "<svg xmlns=\"http://www.w3.org/2000/svg\" height=\"24px\"viewBox=\"0 0 24 24\"\n",
              "     width=\"24px\">\n",
              "    <g>\n",
              "        <path d=\"M19 3H5c-1.1 0-2 .9-2 2v14c0 1.1.9 2 2 2h14c1.1 0 2-.9 2-2V5c0-1.1-.9-2-2-2zM9 17H7v-7h2v7zm4 0h-2V7h2v10zm4 0h-2v-4h2v4z\"/>\n",
              "    </g>\n",
              "</svg>\n",
              "  </button>\n",
              "\n",
              "<style>\n",
              "  .colab-df-quickchart {\n",
              "      --bg-color: #E8F0FE;\n",
              "      --fill-color: #1967D2;\n",
              "      --hover-bg-color: #E2EBFA;\n",
              "      --hover-fill-color: #174EA6;\n",
              "      --disabled-fill-color: #AAA;\n",
              "      --disabled-bg-color: #DDD;\n",
              "  }\n",
              "\n",
              "  [theme=dark] .colab-df-quickchart {\n",
              "      --bg-color: #3B4455;\n",
              "      --fill-color: #D2E3FC;\n",
              "      --hover-bg-color: #434B5C;\n",
              "      --hover-fill-color: #FFFFFF;\n",
              "      --disabled-bg-color: #3B4455;\n",
              "      --disabled-fill-color: #666;\n",
              "  }\n",
              "\n",
              "  .colab-df-quickchart {\n",
              "    background-color: var(--bg-color);\n",
              "    border: none;\n",
              "    border-radius: 50%;\n",
              "    cursor: pointer;\n",
              "    display: none;\n",
              "    fill: var(--fill-color);\n",
              "    height: 32px;\n",
              "    padding: 0;\n",
              "    width: 32px;\n",
              "  }\n",
              "\n",
              "  .colab-df-quickchart:hover {\n",
              "    background-color: var(--hover-bg-color);\n",
              "    box-shadow: 0 1px 2px rgba(60, 64, 67, 0.3), 0 1px 3px 1px rgba(60, 64, 67, 0.15);\n",
              "    fill: var(--button-hover-fill-color);\n",
              "  }\n",
              "\n",
              "  .colab-df-quickchart-complete:disabled,\n",
              "  .colab-df-quickchart-complete:disabled:hover {\n",
              "    background-color: var(--disabled-bg-color);\n",
              "    fill: var(--disabled-fill-color);\n",
              "    box-shadow: none;\n",
              "  }\n",
              "\n",
              "  .colab-df-spinner {\n",
              "    border: 2px solid var(--fill-color);\n",
              "    border-color: transparent;\n",
              "    border-bottom-color: var(--fill-color);\n",
              "    animation:\n",
              "      spin 1s steps(1) infinite;\n",
              "  }\n",
              "\n",
              "  @keyframes spin {\n",
              "    0% {\n",
              "      border-color: transparent;\n",
              "      border-bottom-color: var(--fill-color);\n",
              "      border-left-color: var(--fill-color);\n",
              "    }\n",
              "    20% {\n",
              "      border-color: transparent;\n",
              "      border-left-color: var(--fill-color);\n",
              "      border-top-color: var(--fill-color);\n",
              "    }\n",
              "    30% {\n",
              "      border-color: transparent;\n",
              "      border-left-color: var(--fill-color);\n",
              "      border-top-color: var(--fill-color);\n",
              "      border-right-color: var(--fill-color);\n",
              "    }\n",
              "    40% {\n",
              "      border-color: transparent;\n",
              "      border-right-color: var(--fill-color);\n",
              "      border-top-color: var(--fill-color);\n",
              "    }\n",
              "    60% {\n",
              "      border-color: transparent;\n",
              "      border-right-color: var(--fill-color);\n",
              "    }\n",
              "    80% {\n",
              "      border-color: transparent;\n",
              "      border-right-color: var(--fill-color);\n",
              "      border-bottom-color: var(--fill-color);\n",
              "    }\n",
              "    90% {\n",
              "      border-color: transparent;\n",
              "      border-bottom-color: var(--fill-color);\n",
              "    }\n",
              "  }\n",
              "</style>\n",
              "\n",
              "  <script>\n",
              "    async function quickchart(key) {\n",
              "      const quickchartButtonEl =\n",
              "        document.querySelector('#' + key + ' button');\n",
              "      quickchartButtonEl.disabled = true;  // To prevent multiple clicks.\n",
              "      quickchartButtonEl.classList.add('colab-df-spinner');\n",
              "      try {\n",
              "        const charts = await google.colab.kernel.invokeFunction(\n",
              "            'suggestCharts', [key], {});\n",
              "      } catch (error) {\n",
              "        console.error('Error during call to suggestCharts:', error);\n",
              "      }\n",
              "      quickchartButtonEl.classList.remove('colab-df-spinner');\n",
              "      quickchartButtonEl.classList.add('colab-df-quickchart-complete');\n",
              "    }\n",
              "    (() => {\n",
              "      let quickchartButtonEl =\n",
              "        document.querySelector('#df-c68b15d2-e69b-421d-9c03-b7b256b642c3 button');\n",
              "      quickchartButtonEl.style.display =\n",
              "        google.colab.kernel.accessAllowed ? 'block' : 'none';\n",
              "    })();\n",
              "  </script>\n",
              "</div>\n",
              "\n",
              "    </div>\n",
              "  </div>\n"
            ],
            "application/vnd.google.colaboratory.intrinsic+json": {
              "type": "dataframe",
              "summary": "{\n  \"name\": \"df\",\n  \"rows\": 8,\n  \"fields\": [\n    {\n      \"column\": \"Age\",\n      \"properties\": {\n        \"dtype\": \"number\",\n        \"std\": 257.818289897722,\n        \"min\": 0.17,\n        \"max\": 756.0,\n        \"num_unique_values\": 8,\n        \"samples\": [\n          30.397989417989418,\n          28.0,\n          756.0\n        ],\n        \"semantic_type\": \"\",\n        \"description\": \"\"\n      }\n    },\n    {\n      \"column\": \"Survived\",\n      \"properties\": {\n        \"dtype\": \"number\",\n        \"std\": 464.0734812340568,\n        \"min\": 0.0,\n        \"max\": 1313.0,\n        \"num_unique_values\": 5,\n        \"samples\": [\n          0.3427265803503427,\n          1.0,\n          0.47480181908910635\n        ],\n        \"semantic_type\": \"\",\n        \"description\": \"\"\n      }\n    }\n  ]\n}"
            }
          },
          "metadata": {},
          "execution_count": 7
        }
      ]
    },
    {
      "cell_type": "markdown",
      "source": [
        "Statistical Information of categorical/numerical columns can be seen using df.desribe function.\n",
        "Here the columns carrying Numerical data are Age and Survuvived."
      ],
      "metadata": {
        "id": "p_pbF7EWXYct"
      }
    },
    {
      "cell_type": "code",
      "source": [
        "df.info()"
      ],
      "metadata": {
        "colab": {
          "base_uri": "https://localhost:8080/"
        },
        "id": "zkq-GxnUXTNR",
        "outputId": "551daf2f-0825-4189-9571-d308b526892f"
      },
      "execution_count": null,
      "outputs": [
        {
          "output_type": "stream",
          "name": "stdout",
          "text": [
            "<class 'pandas.core.frame.DataFrame'>\n",
            "RangeIndex: 1313 entries, 0 to 1312\n",
            "Data columns (total 5 columns):\n",
            " #   Column    Non-Null Count  Dtype  \n",
            "---  ------    --------------  -----  \n",
            " 0   Name      1313 non-null   object \n",
            " 1   PClass    1312 non-null   object \n",
            " 2   Age       756 non-null    float64\n",
            " 3   Sex       1313 non-null   object \n",
            " 4   Survived  1313 non-null   int64  \n",
            "dtypes: float64(1), int64(1), object(3)\n",
            "memory usage: 51.4+ KB\n"
          ]
        }
      ]
    },
    {
      "cell_type": "code",
      "source": [
        "df.dtypes"
      ],
      "metadata": {
        "colab": {
          "base_uri": "https://localhost:8080/"
        },
        "id": "-DjsOOwKYD6w",
        "outputId": "cca030de-69a9-4be4-bd28-886bee510087"
      },
      "execution_count": null,
      "outputs": [
        {
          "output_type": "execute_result",
          "data": {
            "text/plain": [
              "Name         object\n",
              "PClass       object\n",
              "Age         float64\n",
              "Sex          object\n",
              "Survived      int64\n",
              "dtype: object"
            ]
          },
          "metadata": {},
          "execution_count": 9
        }
      ]
    },
    {
      "cell_type": "markdown",
      "source": [
        "Data Type of all the present columns in the dataset can be understood using df.dtpes method."
      ],
      "metadata": {
        "id": "cwyO90m4aPBG"
      }
    },
    {
      "cell_type": "code",
      "source": [
        "#printing only particular columns\n",
        "df['PClass']"
      ],
      "metadata": {
        "colab": {
          "base_uri": "https://localhost:8080/"
        },
        "id": "YOAqzja7YILV",
        "outputId": "bbaf8f05-bf64-4b99-9929-d498870a2b82"
      },
      "execution_count": null,
      "outputs": [
        {
          "output_type": "execute_result",
          "data": {
            "text/plain": [
              "0       1st\n",
              "1       1st\n",
              "2       1st\n",
              "3       1st\n",
              "4       1st\n",
              "       ... \n",
              "1308    3rd\n",
              "1309    3rd\n",
              "1310    3rd\n",
              "1311    3rd\n",
              "1312    3rd\n",
              "Name: PClass, Length: 1313, dtype: object"
            ]
          },
          "metadata": {},
          "execution_count": 10
        }
      ]
    },
    {
      "cell_type": "code",
      "source": [
        "#Uniue values in a particular column\n",
        "df['PClass'].nunique()"
      ],
      "metadata": {
        "colab": {
          "base_uri": "https://localhost:8080/"
        },
        "id": "z4Qa8BlUYTga",
        "outputId": "17db36d8-ae75-44c8-b126-541e89f4f7a3"
      },
      "execution_count": null,
      "outputs": [
        {
          "output_type": "execute_result",
          "data": {
            "text/plain": [
              "3"
            ]
          },
          "metadata": {},
          "execution_count": 11
        }
      ]
    },
    {
      "cell_type": "code",
      "source": [
        "df['PClass'].unique()"
      ],
      "metadata": {
        "colab": {
          "base_uri": "https://localhost:8080/"
        },
        "id": "oeTTqdxDYgS1",
        "outputId": "74005a2f-618a-4afa-894b-3ce8fccca0f5"
      },
      "execution_count": null,
      "outputs": [
        {
          "output_type": "execute_result",
          "data": {
            "text/plain": [
              "array(['1st', '2nd', nan, '3rd'], dtype=object)"
            ]
          },
          "metadata": {},
          "execution_count": 12
        }
      ]
    },
    {
      "cell_type": "markdown",
      "source": [
        "Three unique values for the class of the passenger (1st, 2nd and 3rd) can be seen for the travellers in the Titanic.  "
      ],
      "metadata": {
        "id": "J1ou3HNJZxfe"
      }
    },
    {
      "cell_type": "code",
      "source": [
        "df[\"Sex\"].nunique()"
      ],
      "metadata": {
        "colab": {
          "base_uri": "https://localhost:8080/"
        },
        "id": "wJBKtFcOYl8o",
        "outputId": "da7e9a2d-20e3-422c-8cfe-2830ff6e8842"
      },
      "execution_count": null,
      "outputs": [
        {
          "output_type": "execute_result",
          "data": {
            "text/plain": [
              "2"
            ]
          },
          "metadata": {},
          "execution_count": 13
        }
      ]
    },
    {
      "cell_type": "code",
      "source": [
        "df['Sex'].unique()"
      ],
      "metadata": {
        "colab": {
          "base_uri": "https://localhost:8080/"
        },
        "id": "fb1iV-ngZTui",
        "outputId": "4e026d7a-2305-47ce-8784-65850f2d6d4f"
      },
      "execution_count": null,
      "outputs": [
        {
          "output_type": "execute_result",
          "data": {
            "text/plain": [
              "array(['female', 'male'], dtype=object)"
            ]
          },
          "metadata": {},
          "execution_count": 14
        }
      ]
    },
    {
      "cell_type": "code",
      "source": [
        "df['Survived'].nunique()"
      ],
      "metadata": {
        "colab": {
          "base_uri": "https://localhost:8080/"
        },
        "id": "75bHYxjyZWeA",
        "outputId": "096751fa-796f-45a2-f1b1-29b9420c5203"
      },
      "execution_count": null,
      "outputs": [
        {
          "output_type": "execute_result",
          "data": {
            "text/plain": [
              "2"
            ]
          },
          "metadata": {},
          "execution_count": 15
        }
      ]
    },
    {
      "cell_type": "code",
      "source": [
        "df['Survived'].unique()"
      ],
      "metadata": {
        "colab": {
          "base_uri": "https://localhost:8080/"
        },
        "id": "diDTNMhiZaZI",
        "outputId": "a49ad474-b50e-4e4d-cf1c-310e5fe3a713"
      },
      "execution_count": null,
      "outputs": [
        {
          "output_type": "execute_result",
          "data": {
            "text/plain": [
              "array([1, 0])"
            ]
          },
          "metadata": {},
          "execution_count": 16
        }
      ]
    },
    {
      "cell_type": "markdown",
      "source": [
        "Two unique values (1,0) can be found in the Survived column, indicating the survival of the passenger (1) or if the passenger couldn't survive(0)"
      ],
      "metadata": {
        "id": "VsjN68iTZjSR"
      }
    },
    {
      "cell_type": "code",
      "source": [
        "#Handling Age Column"
      ],
      "metadata": {
        "id": "wN8J9O97ZcSL"
      },
      "execution_count": null,
      "outputs": []
    },
    {
      "cell_type": "markdown",
      "source": [
        "We saw a lot of null values in the age column and thus it is necessary to handle the null values and other disperancies in the age column."
      ],
      "metadata": {
        "id": "QeC1m4SubiiX"
      }
    },
    {
      "cell_type": "code",
      "source": [
        "sns.boxplot(df[\"Age\"])"
      ],
      "metadata": {
        "colab": {
          "base_uri": "https://localhost:8080/",
          "height": 428
        },
        "id": "D5AHOgfEbhrS",
        "outputId": "31d9739b-bef0-444c-b134-32969dc36449"
      },
      "execution_count": null,
      "outputs": [
        {
          "output_type": "execute_result",
          "data": {
            "text/plain": [
              "<Axes: ylabel='Age'>"
            ]
          },
          "metadata": {},
          "execution_count": 18
        },
        {
          "output_type": "display_data",
          "data": {
            "text/plain": [
              "<Figure size 640x480 with 1 Axes>"
            ],
            "image/png": "[encoded data removed]"
          },
          "metadata": {}
        }
      ]
    },
    {
      "cell_type": "code",
      "source": [
        "#Outlier detection\n",
        "##IQR(Inter Quartile Range)\n",
        "Q1 = np.percentile(df['Age'], 25, axis = 0)\n",
        "Q3 = np.percentile(df['Age'], 75, axis = 0)\n",
        "\n",
        "IQR = Q3 - Q1\n",
        "\n",
        "outliers1 = ((df['Age'] < (Q1 - 1.5* IQR)) | (df['Age'] > (Q3 + 1.5*IQR)))\n",
        "\n",
        "print(\"Indices of Outliers: \", np.where(outliers1))"
      ],
      "metadata": {
        "colab": {
          "base_uri": "https://localhost:8080/"
        },
        "id": "57CyyVNXb2eQ",
        "outputId": "2f97c5f6-feb3-49ee-f415-d8e7f9358e51"
      },
      "execution_count": null,
      "outputs": [
        {
          "output_type": "stream",
          "name": "stdout",
          "text": [
            "Indices of Outliers:  (array([], dtype=int64),)\n"
          ]
        }
      ]
    },
    {
      "cell_type": "markdown",
      "source": [
        "It indicates that there are no outliers in the dataset because the array is empty. This means that no values in the 'Age' column fall outside the range defined by Q1 - 1.5 * IQR and Q3 + 1.5 * IQR."
      ],
      "metadata": {
        "id": "JufNmXYfdiHY"
      }
    },
    {
      "cell_type": "code",
      "source": [
        "#Handling Missing Value\n",
        "df['Age'] = df['Age'].replace(np.NaN,df['Age'].mean())\n",
        "\n",
        "#replacing null values with computed mean of age column"
      ],
      "metadata": {
        "id": "-_XpXTZwdN9N"
      },
      "execution_count": null,
      "outputs": []
    },
    {
      "cell_type": "code",
      "source": [
        "df['Age'].mean()"
      ],
      "metadata": {
        "colab": {
          "base_uri": "https://localhost:8080/"
        },
        "id": "XPP43jFsexe8",
        "outputId": "d2509075-fa94-4394-9983-72368f9a4254"
      },
      "execution_count": null,
      "outputs": [
        {
          "output_type": "execute_result",
          "data": {
            "text/plain": [
              "30.397989417989425"
            ]
          },
          "metadata": {},
          "execution_count": 21
        }
      ]
    },
    {
      "cell_type": "code",
      "source": [
        "#checking again for null values\n",
        "df['Age'].isnull().sum()"
      ],
      "metadata": {
        "colab": {
          "base_uri": "https://localhost:8080/"
        },
        "id": "ke79tgcKe06m",
        "outputId": "ebc12efe-cab0-4ac5-f108-2d45913ef7ba"
      },
      "execution_count": null,
      "outputs": [
        {
          "output_type": "execute_result",
          "data": {
            "text/plain": [
              "0"
            ]
          },
          "metadata": {},
          "execution_count": 22
        }
      ]
    },
    {
      "cell_type": "code",
      "source": [
        "#Handling missing values in PClass\n",
        "df.dropna(axis = 0, inplace = True)"
      ],
      "metadata": {
        "id": "Z4R_yICoe8iJ"
      },
      "execution_count": null,
      "outputs": []
    },
    {
      "cell_type": "code",
      "source": [
        "df.isnull().sum()"
      ],
      "metadata": {
        "colab": {
          "base_uri": "https://localhost:8080/"
        },
        "id": "YmPLNmJvfGWz",
        "outputId": "90216ec4-ede5-400e-d8e1-f795e81e1423"
      },
      "execution_count": null,
      "outputs": [
        {
          "output_type": "execute_result",
          "data": {
            "text/plain": [
              "Name        0\n",
              "PClass      0\n",
              "Age         0\n",
              "Sex         0\n",
              "Survived    0\n",
              "dtype: int64"
            ]
          },
          "metadata": {},
          "execution_count": 24
        }
      ]
    },
    {
      "cell_type": "markdown",
      "source": [
        "Now, the missing values have been handled.\n",
        "The missing values in the age column have been replaced by the Computed mean whereas the one missing value present in the PClass column have been dropped."
      ],
      "metadata": {
        "id": "EzwUz87xf_V7"
      }
    },
    {
      "cell_type": "code",
      "source": [
        "#Changing categorical data into numerical data"
      ],
      "metadata": {
        "id": "2GUWSwDHfto8"
      },
      "execution_count": null,
      "outputs": []
    },
    {
      "cell_type": "markdown",
      "source": [
        "Now, we'll convert categorical data in the dataset such as the one present in Sex olumn into numerical data for better analysis. Label Encoder or Get Dummies can be used for the same.\n"
      ],
      "metadata": {
        "id": "qJyt60rC4CyC"
      }
    },
    {
      "cell_type": "code",
      "source": [
        "df['Sex'].unique()"
      ],
      "metadata": {
        "colab": {
          "base_uri": "https://localhost:8080/"
        },
        "id": "AtMg7lx74qcx",
        "outputId": "52d94e74-c542-445f-faa1-4ecdf8dd5b09"
      },
      "execution_count": null,
      "outputs": [
        {
          "output_type": "execute_result",
          "data": {
            "text/plain": [
              "array(['female', 'male'], dtype=object)"
            ]
          },
          "metadata": {},
          "execution_count": 26
        }
      ]
    },
    {
      "cell_type": "code",
      "source": [
        "df['Sex'].head()"
      ],
      "metadata": {
        "colab": {
          "base_uri": "https://localhost:8080/"
        },
        "id": "O7cXqRq-4uCt",
        "outputId": "92979099-cc26-4f60-ef2d-eda5eaa2a347"
      },
      "execution_count": null,
      "outputs": [
        {
          "output_type": "execute_result",
          "data": {
            "text/plain": [
              "0    female\n",
              "1    female\n",
              "2      male\n",
              "3    female\n",
              "4      male\n",
              "Name: Sex, dtype: object"
            ]
          },
          "metadata": {},
          "execution_count": 27
        }
      ]
    },
    {
      "cell_type": "code",
      "source": [
        "# Import label encoder\n",
        "from sklearn import preprocessing\n",
        "\n",
        "label_encoder = preprocessing.LabelEncoder()"
      ],
      "metadata": {
        "id": "6iHaI9sy4B4y"
      },
      "execution_count": null,
      "outputs": []
    },
    {
      "cell_type": "markdown",
      "source": [
        "Label Encoding is a technique that is used to convert categorical columns into numerical ones so that they can be fitted by machine learning models which only take numerical data."
      ],
      "metadata": {
        "id": "-Ol7uYF16xJb"
      }
    },
    {
      "cell_type": "code",
      "source": [
        "df['Sex'] = label_encoder.fit_transform(df['Sex'])"
      ],
      "metadata": {
        "id": "LPinwqSL4ztK"
      },
      "execution_count": null,
      "outputs": []
    },
    {
      "cell_type": "code",
      "source": [
        "df['Sex'].unique()"
      ],
      "metadata": {
        "colab": {
          "base_uri": "https://localhost:8080/"
        },
        "id": "vl60q_DH5F_U",
        "outputId": "2c276d35-31d4-475d-d903-11f6e2edc34d"
      },
      "execution_count": null,
      "outputs": [
        {
          "output_type": "execute_result",
          "data": {
            "text/plain": [
              "array([0, 1])"
            ]
          },
          "metadata": {},
          "execution_count": 30
        }
      ]
    },
    {
      "cell_type": "code",
      "source": [
        "df[\"Sex\"].head()"
      ],
      "metadata": {
        "colab": {
          "base_uri": "https://localhost:8080/"
        },
        "id": "E-30pWAO5I5w",
        "outputId": "a4a6d835-90bf-42cc-aea0-dd6cc4c9568f"
      },
      "execution_count": null,
      "outputs": [
        {
          "output_type": "execute_result",
          "data": {
            "text/plain": [
              "0    0\n",
              "1    0\n",
              "2    1\n",
              "3    0\n",
              "4    1\n",
              "Name: Sex, dtype: int64"
            ]
          },
          "metadata": {},
          "execution_count": 31
        }
      ]
    },
    {
      "cell_type": "markdown",
      "source": [
        "Here, male category is now represented by 1 and females by 0."
      ],
      "metadata": {
        "id": "fyWJu3tI5OiS"
      }
    },
    {
      "cell_type": "code",
      "source": [
        "#Changing labels for PClass Column"
      ],
      "metadata": {
        "id": "-QYwT5245M02"
      },
      "execution_count": null,
      "outputs": []
    },
    {
      "cell_type": "code",
      "source": [
        "df['PClass'].unique()"
      ],
      "metadata": {
        "colab": {
          "base_uri": "https://localhost:8080/"
        },
        "id": "tTOzWvkj6Kyr",
        "outputId": "58670deb-130a-4198-f346-df5ae286718d"
      },
      "execution_count": null,
      "outputs": [
        {
          "output_type": "execute_result",
          "data": {
            "text/plain": [
              "array(['1st', '2nd', '3rd'], dtype=object)"
            ]
          },
          "metadata": {},
          "execution_count": 33
        }
      ]
    },
    {
      "cell_type": "code",
      "source": [
        "df['PClass'] = label_encoder.fit_transform(df['PClass'])"
      ],
      "metadata": {
        "id": "JlLPm0Lh6NKP"
      },
      "execution_count": null,
      "outputs": []
    },
    {
      "cell_type": "code",
      "source": [
        "df['PClass'].unique()"
      ],
      "metadata": {
        "colab": {
          "base_uri": "https://localhost:8080/"
        },
        "id": "MlBd4aFt6UMm",
        "outputId": "0dd2d754-5700-4f0b-ba04-5375880087e7"
      },
      "execution_count": null,
      "outputs": [
        {
          "output_type": "execute_result",
          "data": {
            "text/plain": [
              "array([0, 1, 2])"
            ]
          },
          "metadata": {},
          "execution_count": 35
        }
      ]
    },
    {
      "cell_type": "markdown",
      "source": [
        "The PClass categories 1st, 2nd and 3rd are now represented as 0, 1, 2 respectively."
      ],
      "metadata": {
        "id": "RFiO86l86Zth"
      }
    },
    {
      "cell_type": "code",
      "source": [
        "##VISUALIZATION"
      ],
      "metadata": {
        "id": "G1tyd7A76Yjh"
      },
      "execution_count": null,
      "outputs": []
    },
    {
      "cell_type": "code",
      "source": [
        "#Countplot for PClass Column\n",
        "plt.figure(figsize=(5,3))                      #setting figure size\n",
        "sns.countplot(x = df['PClass'], data = df)\n",
        "plt.xlabel(\"Passenger Class\")                  #set x-axis label\n",
        "plt.ylabel(\"Count\")                            #set y-axis label\n",
        "plt.title(\"Passenger Class Count\")             #set title\n",
        "plt.show()"
      ],
      "metadata": {
        "colab": {
          "base_uri": "https://localhost:8080/",
          "height": 333
        },
        "id": "deAuutoX7DsT",
        "outputId": "6bf10a97-e4dd-4bff-b866-eff8e918b821"
      },
      "execution_count": null,
      "outputs": [
        {
          "output_type": "display_data",
          "data": {
            "text/plain": [
              "<Figure size 500x300 with 1 Axes>"
            ],
            "image/png": "[encoded data removed]"
          },
          "metadata": {}
        }
      ]
    },
    {
      "cell_type": "markdown",
      "source": [
        "Maximum Passengers present had the categorization of 3rd PClass (2 as per Label Encoder)"
      ],
      "metadata": {
        "id": "0-Kubie38f-A"
      }
    },
    {
      "cell_type": "code",
      "source": [
        "#Countplot of Passenger class with respect to survival\n",
        "plt.figure(figsize=(5,3))\n",
        "sns.countplot(x=df['PClass'], hue = df['Survived'], data = df)\n",
        "plt.title(\"Countplot of PClass as per Survived\")\n",
        "plt.show()"
      ],
      "metadata": {
        "colab": {
          "base_uri": "https://localhost:8080/",
          "height": 333
        },
        "id": "7mqW_TLs8RN_",
        "outputId": "0d2567d1-91c0-4bc0-8ad6-7e713fed89b8"
      },
      "execution_count": null,
      "outputs": [
        {
          "output_type": "display_data",
          "data": {
            "text/plain": [
              "<Figure size 500x300 with 1 Axes>"
            ],
            "image/png": "[encoded data removed]"
          },
          "metadata": {}
        }
      ]
    },
    {
      "cell_type": "markdown",
      "source": [
        "The graph shows the distribution of survived passengers from each pasenger class."
      ],
      "metadata": {
        "id": "lZop92SI9NH5"
      }
    },
    {
      "cell_type": "markdown",
      "source": [
        "We can visualize that a lot of passengers from 3rd Passenger Class(2) couldn't survive. From 1st passenger Class(0) approximately 190 out of 300 survived similarly from 2nd passenger class (1) approximately 120 out of 280 passengers survived, however, from 3rd passenger class (2) from an approximation of 700 passengrs only an approximate of 120 could survive.\n",
        "\n",
        "This shows that the higher class passengers had more survival rate than the lower class passengers in the Titanic incident.\n"
      ],
      "metadata": {
        "id": "n1M_VHeu-SMM"
      }
    },
    {
      "cell_type": "code",
      "source": [
        "#Countplot for Sex Column\n",
        "plt.figure(figsize=(5,3))\n",
        "sns.countplot(x=df['Sex'], data=df)\n",
        "plt.xlabel('Sex')\n",
        "plt.ylabel('Count')\n",
        "plt.title('Countplot for Sex Column')\n",
        "plt.show()"
      ],
      "metadata": {
        "colab": {
          "base_uri": "https://localhost:8080/",
          "height": 333
        },
        "id": "pexiEQBS9FS6",
        "outputId": "181a3a03-5e13-4712-9e47-4fc41f522d79"
      },
      "execution_count": null,
      "outputs": [
        {
          "output_type": "display_data",
          "data": {
            "text/plain": [
              "<Figure size 500x300 with 1 Axes>"
            ],
            "image/png": "[encoded data removed]"
          },
          "metadata": {}
        }
      ]
    },
    {
      "cell_type": "markdown",
      "source": [
        "We can see that approximately 410 females(0) and 805 males(1) were present in the Titanic."
      ],
      "metadata": {
        "id": "ikkJaT_B_VCD"
      }
    },
    {
      "cell_type": "code",
      "source": [
        "#Countplot of sex w.r.t survived\n",
        "#Countplot for Sex Column\n",
        "plt.figure(figsize=(5,3))\n",
        "sns.countplot(x=df['Sex'], hue=df['Survived'], data=df)\n",
        "plt.title('Countplot for Sex Column w.r.t Survived passengers')\n",
        "plt.show()"
      ],
      "metadata": {
        "colab": {
          "base_uri": "https://localhost:8080/",
          "height": 333
        },
        "id": "LVwE_p2q_Oje",
        "outputId": "365ea415-08e5-4f47-a5ef-fca70043827d"
      },
      "execution_count": null,
      "outputs": [
        {
          "output_type": "display_data",
          "data": {
            "text/plain": [
              "<Figure size 500x300 with 1 Axes>"
            ],
            "image/png": "[encoded data removed]"
          },
          "metadata": {}
        }
      ]
    },
    {
      "cell_type": "markdown",
      "source": [
        "We can see that from an approximation of about 410 females(0) about 300 survived but from an approximation of 805 males(1) only about 105 survived.\n"
      ],
      "metadata": {
        "id": "2QLEot5Y_9SD"
      }
    },
    {
      "cell_type": "code",
      "source": [
        "#Countplot for Age Column\n",
        "plt.figure(figsize=(5,3))\n",
        "sns.countplot(x=df['Age'], data=df)\n",
        "plt.title('Countplot for Age Column')\n",
        "plt.xlabel('Age')\n",
        "plt.show()"
      ],
      "metadata": {
        "colab": {
          "base_uri": "https://localhost:8080/",
          "height": 333
        },
        "id": "HoIY4NG7AWRT",
        "outputId": "b3b0d99b-377e-4440-ab63-bb1f042fe7e2"
      },
      "execution_count": null,
      "outputs": [
        {
          "output_type": "display_data",
          "data": {
            "text/plain": [
              "<Figure size 500x300 with 1 Axes>"
            ],
            "image/png": "[encoded data removed]"
          },
          "metadata": {}
        }
      ]
    },
    {
      "cell_type": "markdown",
      "source": [
        "With a vast data such as the same in age clumn countplot, is not giving a great visualisation therefore other methods for visualizing the same can be considered."
      ],
      "metadata": {
        "id": "nZ-yYLZxAnFT"
      }
    },
    {
      "cell_type": "code",
      "source": [
        "#Violin Plot\n",
        "plt.figure(figsize=(5,3))\n",
        "sns.violinplot(data=df, x=df['Age'])\n",
        "plt.title('Age Distribution')\n",
        "plt.show()"
      ],
      "metadata": {
        "colab": {
          "base_uri": "https://localhost:8080/",
          "height": 333
        },
        "id": "DfNmIvro_xjy",
        "outputId": "02021885-57d8-4b24-ca5c-e4052a5bf985"
      },
      "execution_count": null,
      "outputs": [
        {
          "output_type": "display_data",
          "data": {
            "text/plain": [
              "<Figure size 500x300 with 1 Axes>"
            ],
            "image/png": "[encoded data removed]"
          },
          "metadata": {}
        }
      ]
    },
    {
      "cell_type": "code",
      "source": [
        "#Violin Plot\n",
        "plt.figure(figsize=(5,3))\n",
        "sns.violinplot(data=df, x=df['Age'], hue=df['Survived'])\n",
        "plt.title('Age Distribution w,r,t to Survived')\n",
        "plt.show()"
      ],
      "metadata": {
        "colab": {
          "base_uri": "https://localhost:8080/",
          "height": 333
        },
        "id": "bV3ng5tLA788",
        "outputId": "4cf733bf-568b-4723-d1af-4ad67df413b8"
      },
      "execution_count": null,
      "outputs": [
        {
          "output_type": "display_data",
          "data": {
            "text/plain": [
              "<Figure size 500x300 with 1 Axes>"
            ],
            "image/png": "[encoded data removed]"
          },
          "metadata": {}
        }
      ]
    },
    {
      "cell_type": "markdown",
      "source": [
        "From the age analysis we can see the that people in the age of 10-45 had the maximum survival rate."
      ],
      "metadata": {
        "id": "6z4ch80VDkhJ"
      }
    },
    {
      "cell_type": "code",
      "source": [
        "sns.violinplot(x =\"Sex\", y =\"Age\", hue =\"Survived\",\n",
        "data = df, split = True)"
      ],
      "metadata": {
        "id": "OKIpJywQJEIp",
        "outputId": "f1b1d9cf-22bf-488e-bf82-7626bef2dc4f",
        "colab": {
          "base_uri": "https://localhost:8080/",
          "height": 467
        }
      },
      "execution_count": null,
      "outputs": [
        {
          "output_type": "execute_result",
          "data": {
            "text/plain": [
              "<Axes: xlabel='Sex', ylabel='Age'>"
            ]
          },
          "metadata": {},
          "execution_count": 44
        },
        {
          "output_type": "display_data",
          "data": {
            "text/plain": [
              "<Figure size 640x480 with 1 Axes>"
            ],
            "image/png": "[encoded data removed]"
          },
          "metadata": {}
        }
      ]
    },
    {
      "cell_type": "markdown",
      "source": [
        "With all the visualization we can say that the best survival rate was among:\n",
        "1. Higher Class Passengers\n",
        "2. Women\n",
        "3. People in the age group of 10-45"
      ],
      "metadata": {
        "id": "Xm4_cuR8D5lV"
      }
    },
    {
      "cell_type": "code",
      "source": [
        "#Dividing the age column into age groups\n",
        "\n",
        "# Define the bins for the age groups\n",
        "bins = [0, 10, 45, float('inf')]\n",
        "labels = ['0-10', '10-45', '45+']\n",
        "\n",
        "# Create a new column 'AgeGroup' in the dataframe with the age categories\n",
        "df['AgeGroup'] = pd.cut(df['Age'], bins=bins, labels=labels, right=False)\n",
        "\n",
        "# Display the first few rows to check the new column\n",
        "print(df.head())\n"
      ],
      "metadata": {
        "colab": {
          "base_uri": "https://localhost:8080/"
        },
        "id": "H8MJwYHPDbAj",
        "outputId": "a6f6ebbc-37fa-4e61-d587-8832eb87e0c5"
      },
      "execution_count": null,
      "outputs": [
        {
          "output_type": "stream",
          "name": "stdout",
          "text": [
            "                                            Name  PClass    Age  Sex  \\\n",
            "0                   Allen, Miss Elisabeth Walton       0  29.00    0   \n",
            "1                    Allison, Miss Helen Loraine       0   2.00    0   \n",
            "2            Allison, Mr Hudson Joshua Creighton       0  30.00    1   \n",
            "3  Allison, Mrs Hudson JC (Bessie Waldo Daniels)       0  25.00    0   \n",
            "4                  Allison, Master Hudson Trevor       0   0.92    1   \n",
            "\n",
            "   Survived AgeGroup  \n",
            "0         1    10-45  \n",
            "1         0     0-10  \n",
            "2         0    10-45  \n",
            "3         0    10-45  \n",
            "4         1     0-10  \n"
          ]
        }
      ]
    },
    {
      "cell_type": "code",
      "source": [
        "#Survival rate aong different age groups\n",
        "sns.countplot(x='AgeGroup', hue='Survived', data=df)"
      ],
      "metadata": {
        "colab": {
          "base_uri": "https://localhost:8080/",
          "height": 468
        },
        "id": "-Fu_USRcGHq1",
        "outputId": "48dc80fc-767c-4234-8f79-31454e93dc92"
      },
      "execution_count": null,
      "outputs": [
        {
          "output_type": "execute_result",
          "data": {
            "text/plain": [
              "<Axes: xlabel='AgeGroup', ylabel='count'>"
            ]
          },
          "metadata": {},
          "execution_count": 46
        },
        {
          "output_type": "display_data",
          "data": {
            "text/plain": [
              "<Figure size 640x480 with 1 Axes>"
            ],
            "image/png": "[encoded data removed]"
          },
          "metadata": {}
        }
      ]
    },
    {
      "cell_type": "markdown",
      "source": [
        "The Plot confirms that the maximum survival among age group of 10-45 has been present."
      ],
      "metadata": {
        "id": "K8MViBsCGfvt"
      }
    },
    {
      "cell_type": "markdown",
      "source": [
        "To work further, now a prediction on the survival will be done, using classification algorithm."
      ],
      "metadata": {
        "id": "rq5SScuWsxb9"
      }
    },
    {
      "cell_type": "code",
      "source": [
        "df.columns"
      ],
      "metadata": {
        "id": "6fFnuZSYHGIs",
        "outputId": "0afac443-c8a5-4054-a0f5-e9cdd31cbc12",
        "colab": {
          "base_uri": "https://localhost:8080/"
        }
      },
      "execution_count": null,
      "outputs": [
        {
          "output_type": "execute_result",
          "data": {
            "text/plain": [
              "Index(['Name', 'PClass', 'Age', 'Sex', 'Survived', 'AgeGroup'], dtype='object')"
            ]
          },
          "metadata": {},
          "execution_count": 47
        }
      ]
    },
    {
      "cell_type": "code",
      "source": [
        "df.nunique()"
      ],
      "metadata": {
        "id": "-R5mWSbrsdwf",
        "outputId": "b69de6a9-7ae2-4f26-a4ec-ca22ca733f8f",
        "colab": {
          "base_uri": "https://localhost:8080/"
        }
      },
      "execution_count": null,
      "outputs": [
        {
          "output_type": "execute_result",
          "data": {
            "text/plain": [
              "Name        1309\n",
              "PClass         3\n",
              "Age           76\n",
              "Sex            2\n",
              "Survived       2\n",
              "AgeGroup       3\n",
              "dtype: int64"
            ]
          },
          "metadata": {},
          "execution_count": 49
        }
      ]
    },
    {
      "cell_type": "markdown",
      "source": [
        "Name being the column with all the null values will be dropped before the classification."
      ],
      "metadata": {
        "id": "DKeA6adCtB9K"
      }
    },
    {
      "cell_type": "code",
      "source": [
        "df.drop(\"Name\", axis=1, inplace=True)"
      ],
      "metadata": {
        "id": "tdr0JcX7skyY"
      },
      "execution_count": null,
      "outputs": []
    },
    {
      "cell_type": "code",
      "source": [
        "df.columns"
      ],
      "metadata": {
        "id": "l4suqbF1tQTv",
        "outputId": "d60f79c4-ee3f-48e9-b586-e1ae57b43125",
        "colab": {
          "base_uri": "https://localhost:8080/"
        }
      },
      "execution_count": null,
      "outputs": [
        {
          "output_type": "execute_result",
          "data": {
            "text/plain": [
              "Index(['PClass', 'Age', 'Sex', 'Survived', 'AgeGroup'], dtype='object')"
            ]
          },
          "metadata": {},
          "execution_count": 51
        }
      ]
    },
    {
      "cell_type": "markdown",
      "source": [
        "In the Titanic dataset, we have features [PClass, Age, Sex, AgeGroup] the goal is to predict whether the passenger survived or not. Thus we have Input Variables and Label as well.\n",
        "\n",
        "Sine, we have label present, supervised learning techniques will be used for the classificiaction."
      ],
      "metadata": {
        "id": "X5lMMyGvugRP"
      }
    },
    {
      "cell_type": "code",
      "source": [
        "X = df.drop(\"Survived\", axis=1)\n",
        "y = df['Survived']"
      ],
      "metadata": {
        "id": "v4dTPYhktSJJ"
      },
      "execution_count": null,
      "outputs": []
    },
    {
      "cell_type": "code",
      "source": [
        "X.drop(\"AgeGroup\", axis=1, inplace=True)"
      ],
      "metadata": {
        "id": "BiaynKy-0d0V"
      },
      "execution_count": null,
      "outputs": []
    },
    {
      "cell_type": "code",
      "source": [
        "print(X)"
      ],
      "metadata": {
        "id": "jn4oHcAFvBQO",
        "outputId": "7fced8a1-dbb2-44a1-fadc-e05118659cac",
        "colab": {
          "base_uri": "https://localhost:8080/"
        }
      },
      "execution_count": null,
      "outputs": [
        {
          "output_type": "stream",
          "name": "stdout",
          "text": [
            "      PClass    Age  Sex\n",
            "0          0  29.00    0\n",
            "1          0   2.00    0\n",
            "2          0  30.00    1\n",
            "3          0  25.00    0\n",
            "4          0   0.92    1\n",
            "...      ...    ...  ...\n",
            "1308       2  27.00    1\n",
            "1309       2  26.00    1\n",
            "1310       2  22.00    1\n",
            "1311       2  24.00    1\n",
            "1312       2  29.00    1\n",
            "\n",
            "[1312 rows x 3 columns]\n"
          ]
        }
      ]
    },
    {
      "cell_type": "code",
      "source": [
        "# Initialize and fit scaler\n",
        "from sklearn.preprocessing import StandardScaler\n",
        "scaler = StandardScaler()\n",
        "X = scaler.fit_transform(X)"
      ],
      "metadata": {
        "id": "OCe_Uv5G28Le"
      },
      "execution_count": null,
      "outputs": []
    },
    {
      "cell_type": "code",
      "source": [
        "print(y)"
      ],
      "metadata": {
        "id": "XbCNQIEDvGY2",
        "outputId": "65135a4d-5d01-40a5-a342-ec0a1f9a5c40",
        "colab": {
          "base_uri": "https://localhost:8080/"
        }
      },
      "execution_count": null,
      "outputs": [
        {
          "output_type": "stream",
          "name": "stdout",
          "text": [
            "0       1\n",
            "1       0\n",
            "2       0\n",
            "3       0\n",
            "4       1\n",
            "       ..\n",
            "1308    0\n",
            "1309    0\n",
            "1310    0\n",
            "1311    0\n",
            "1312    0\n",
            "Name: Survived, Length: 1312, dtype: int64\n"
          ]
        }
      ]
    },
    {
      "cell_type": "markdown",
      "source": [
        "The dataset is now divided into X and y, the X subset includes all the input variables that are to be used for prediction.\n",
        "The y subset includes the label/output variable, i.e, Survived."
      ],
      "metadata": {
        "id": "zzHRzX-2vUzI"
      }
    },
    {
      "cell_type": "markdown",
      "source": [
        "The data will be divided into train and test using train_test_split function from the sklearn.model_selection library\n",
        "\n",
        "X_train, y_train data subsets will be used for the training data whereas the subsets X_test, y_test will be sued for getting the predictions."
      ],
      "metadata": {
        "id": "NEGD3QQBwExx"
      }
    },
    {
      "cell_type": "code",
      "source": [
        "print(X.shape)\n",
        "print(y.shape)"
      ],
      "metadata": {
        "id": "UaoQWZqk3UQD",
        "outputId": "a33964a4-6b08-4912-8aa9-a1f912c90d9a",
        "colab": {
          "base_uri": "https://localhost:8080/"
        }
      },
      "execution_count": null,
      "outputs": [
        {
          "output_type": "stream",
          "name": "stdout",
          "text": [
            "(1312, 3)\n",
            "(1312,)\n"
          ]
        }
      ]
    },
    {
      "cell_type": "code",
      "source": [
        "from sklearn.model_selection import train_test_split\n",
        "X_train, X_test, y_train, y_test = train_test_split(X, y, test_size=0.3, random_state=42)"
      ],
      "metadata": {
        "id": "AzL6eE3HvSnV"
      },
      "execution_count": null,
      "outputs": []
    },
    {
      "cell_type": "code",
      "source": [
        "# Check shapes\n",
        "print(f'X_train shape: {X_train.shape}')\n",
        "print(f'y_train shape: {y_train.shape}')"
      ],
      "metadata": {
        "id": "GplwFmYo2Nej",
        "outputId": "9853c3ff-fa7a-4275-f390-d4000f37997c",
        "colab": {
          "base_uri": "https://localhost:8080/"
        }
      },
      "execution_count": null,
      "outputs": [
        {
          "output_type": "stream",
          "name": "stdout",
          "text": [
            "X_train shape: (918, 3)\n",
            "y_train shape: (918,)\n"
          ]
        }
      ]
    },
    {
      "cell_type": "code",
      "source": [
        "#KNN"
      ],
      "metadata": {
        "id": "wzTTE2LNw_dg"
      },
      "execution_count": null,
      "outputs": []
    },
    {
      "cell_type": "markdown",
      "source": [
        "For classification we'll use KNN algorithm. KNN being the simplest classification model studies the similarity between the new data and the already present data, and assigns the data to the category similar to it's nearest neighbor"
      ],
      "metadata": {
        "id": "Y6_53xVIxIe1"
      }
    },
    {
      "cell_type": "code",
      "source": [
        "from sklearn.neighbors import KNeighborsClassifier #function to import KNN\n",
        "from sklearn.metrics import accuracy_score, classification_report, confusion_matrix\n",
        "\n",
        "knn = KNeighborsClassifier(n_neighbors=5) #classifier"
      ],
      "metadata": {
        "id": "WcgI5-euxHnd"
      },
      "execution_count": null,
      "outputs": []
    },
    {
      "cell_type": "code",
      "source": [
        "#model\n",
        "knn_model = knn.fit(X_train, y_train)"
      ],
      "metadata": {
        "id": "_cnvQ52LyHGc"
      },
      "execution_count": null,
      "outputs": []
    },
    {
      "cell_type": "code",
      "source": [
        "# Make predictions on the test set\n",
        "y_pred = knn.predict(X_test)"
      ],
      "metadata": {
        "id": "n3LzXsA-ySdz"
      },
      "execution_count": null,
      "outputs": []
    },
    {
      "cell_type": "code",
      "source": [
        "print(y_pred)"
      ],
      "metadata": {
        "id": "Ko2Jc_ot4MCt",
        "outputId": "8b31a7c5-f4a5-43c5-9c88-885f75ce008a",
        "colab": {
          "base_uri": "https://localhost:8080/"
        }
      },
      "execution_count": null,
      "outputs": [
        {
          "output_type": "stream",
          "name": "stdout",
          "text": [
            "[1 1 0 1 1 0 1 0 0 0 0 1 0 0 0 1 0 1 0 0 0 0 0 0 0 1 0 1 0 0 0 1 1 0 0 0 1\n",
            " 1 1 1 1 0 1 1 0 0 0 1 1 1 1 0 1 0 0 1 0 1 0 1 0 1 0 1 1 0 0 0 0 0 0 0 0 0\n",
            " 1 0 1 1 0 0 0 0 1 1 1 0 0 0 0 0 0 1 0 0 1 0 0 0 0 0 1 1 0 0 0 0 1 0 0 0 0\n",
            " 1 1 0 1 0 0 0 1 0 0 0 1 0 1 1 0 0 1 0 0 0 1 0 0 0 1 1 0 0 1 1 0 0 1 0 1 0\n",
            " 0 1 1 0 0 0 0 1 1 0 1 0 0 0 0 0 1 1 1 1 1 1 0 0 0 1 1 0 0 0 1 1 1 1 0 1 1\n",
            " 0 0 0 0 1 1 0 0 0 1 0 1 1 0 0 0 0 0 0 0 0 0 1 0 0 0 0 0 0 1 1 0 0 0 0 1 0\n",
            " 0 1 0 1 0 1 0 0 1 1 0 1 0 1 0 1 0 1 0 0 0 0 1 0 0 0 0 0 0 1 1 0 0 1 0 0 1\n",
            " 0 0 1 1 0 1 0 0 1 0 0 1 1 0 0 0 0 0 0 0 1 1 1 1 0 0 0 0 1 0 1 0 0 1 0 1 1\n",
            " 0 0 0 0 0 0 0 1 1 0 0 1 1 1 0 1 0 0 0 0 0 0 1 1 0 0 0 1 0 0 0 0 1 0 0 1 1\n",
            " 0 1 1 0 0 0 0 0 1 0 1 0 1 1 0 0 0 0 0 0 0 0 1 0 0 0 0 0 0 1 0 1 1 0 0 0 0\n",
            " 1 0 0 1 0 0 1 0 1 1 0 1 0 1 0 0 0 1 0 1 0 1 0 0]\n"
          ]
        }
      ]
    },
    {
      "cell_type": "code",
      "source": [
        "# Calculate accuracy\n",
        "accuracy = accuracy_score(y_test, y_pred)\n",
        "print(f'Accuracy: {accuracy:.2f}')\n",
        "\n",
        "# Print classification report\n",
        "print('Classification Report:')\n",
        "print(classification_report(y_test, y_pred))\n",
        "\n",
        "# Print confusion matrix\n",
        "print('Confusion Matrix:')\n",
        "print(confusion_matrix(y_test, y_pred))"
      ],
      "metadata": {
        "id": "hcnsMVOX4PA-",
        "outputId": "caca4834-4251-461a-f548-c9a39397b3f5",
        "colab": {
          "base_uri": "https://localhost:8080/"
        }
      },
      "execution_count": null,
      "outputs": [
        {
          "output_type": "stream",
          "name": "stdout",
          "text": [
            "Accuracy: 0.77\n",
            "Classification Report:\n",
            "              precision    recall  f1-score   support\n",
            "\n",
            "           0       0.80      0.82      0.81       243\n",
            "           1       0.70      0.68      0.69       151\n",
            "\n",
            "    accuracy                           0.77       394\n",
            "   macro avg       0.75      0.75      0.75       394\n",
            "weighted avg       0.76      0.77      0.77       394\n",
            "\n",
            "Confusion Matrix:\n",
            "[[200  43]\n",
            " [ 49 102]]\n"
          ]
        }
      ]
    },
    {
      "cell_type": "code",
      "source": [],
      "metadata": {
        "id": "q-Sx74Bd4Yk4"
      },
      "execution_count": null,
      "outputs": []
    }
  ]
}